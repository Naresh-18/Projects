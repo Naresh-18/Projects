{
 "cells": [
  {
   "cell_type": "code",
   "execution_count": 1,
   "metadata": {},
   "outputs": [],
   "source": [
    "import numpy as np\n",
    "import pandas as pd\n",
    "import tensorflow as tf\n",
    "from tensorflow.keras.layers import Input, Dense\n",
    "from tensorflow.keras.models import Model\n",
    "from sklearn.model_selection import train_test_split\n",
    "import matplotlib.pyplot as plt"
   ]
  },
  {
   "cell_type": "code",
   "execution_count": 2,
   "metadata": {},
   "outputs": [],
   "source": [
    "ratings = tf.keras.utils.get_file('ratings.csv', 'http://files.grouplens.org/datasets/movielens/ml-100k/u.data')\n",
    "movies = tf.keras.utils.get_file('movies.csv', 'http://files.grouplens.org/datasets/movielens/ml-100k/u.item')\n",
    "\n",
    "ratings_data = np.loadtxt(ratings, delimiter='\\t')\n",
    "movies_data = [line.decode('ISO-8859-1').split('|') for line in open(movies, 'rb').readlines()]\n",
    "\n",
    "num_users = int(max(ratings_data[:, 0]))\n",
    "num_movies = int(max(ratings_data[:, 1]))"
   ]
  },
  {
   "cell_type": "code",
   "execution_count": 3,
   "metadata": {},
   "outputs": [],
   "source": [
    "user_item_matrix = np.zeros((num_users, num_movies))\n",
    "for line in ratings_data:\n",
    "    user_item_matrix[int(line[0]) - 1][int(line[1]) - 1] = line[2]\n"
   ]
  },
  {
   "cell_type": "code",
   "execution_count": 4,
   "metadata": {},
   "outputs": [],
   "source": [
    "train_data, test_data = train_test_split(user_item_matrix, test_size=0.2, random_state=42)\n"
   ]
  },
  {
   "cell_type": "code",
   "execution_count": 5,
   "metadata": {},
   "outputs": [
    {
     "name": "stderr",
     "output_type": "stream",
     "text": [
      "2024-03-20 21:15:55.879043: I metal_plugin/src/device/metal_device.cc:1154] Metal device set to: Apple M2 Pro\n",
      "2024-03-20 21:15:55.879061: I metal_plugin/src/device/metal_device.cc:296] systemMemory: 16.00 GB\n",
      "2024-03-20 21:15:55.879067: I metal_plugin/src/device/metal_device.cc:313] maxCacheSize: 5.33 GB\n",
      "2024-03-20 21:15:55.879095: I tensorflow/core/common_runtime/pluggable_device/pluggable_device_factory.cc:303] Could not identify NUMA node of platform GPU ID 0, defaulting to 0. Your kernel may not have been built with NUMA support.\n",
      "2024-03-20 21:15:55.879110: I tensorflow/core/common_runtime/pluggable_device/pluggable_device_factory.cc:269] Created TensorFlow device (/job:localhost/replica:0/task:0/device:GPU:0 with 0 MB memory) -> physical PluggableDevice (device: 0, name: METAL, pci bus id: <undefined>)\n"
     ]
    }
   ],
   "source": [
    "visible = Input(shape=(num_movies,))\n",
    "hidden1 = Dense(512, activation='sigmoid')(visible)\n",
    "hidden2 = Dense(256, activation='sigmoid')(hidden1)\n",
    "hidden3 = Dense(128, activation='sigmoid')(hidden2)\n",
    "visible_reconstructed = Dense(num_movies, activation='sigmoid')(hidden3)\n",
    "\n",
    "dbm = Model(inputs=visible, outputs=visible_reconstructed)\n",
    "dbm.compile(optimizer='adam', loss='mean_squared_error')"
   ]
  },
  {
   "cell_type": "code",
   "execution_count": 6,
   "metadata": {},
   "outputs": [
    {
     "name": "stdout",
     "output_type": "stream",
     "text": [
      "Epoch 1/100\n",
      " 1/22 [>.............................] - ETA: 7s - loss: 0.8540"
     ]
    },
    {
     "name": "stderr",
     "output_type": "stream",
     "text": [
      "2024-03-20 21:15:56.235592: I tensorflow/core/grappler/optimizers/custom_graph_optimizer_registry.cc:114] Plugin optimizer for device_type GPU is enabled.\n"
     ]
    },
    {
     "name": "stdout",
     "output_type": "stream",
     "text": [
      "22/22 [==============================] - 1s 14ms/step - loss: 0.8023 - val_loss: 0.6751\n",
      "Epoch 2/100\n",
      "18/22 [=======================>......] - ETA: 0s - loss: 0.7417"
     ]
    },
    {
     "name": "stderr",
     "output_type": "stream",
     "text": [
      "2024-03-20 21:15:56.621080: I tensorflow/core/grappler/optimizers/custom_graph_optimizer_registry.cc:114] Plugin optimizer for device_type GPU is enabled.\n"
     ]
    },
    {
     "name": "stdout",
     "output_type": "stream",
     "text": [
      "22/22 [==============================] - 0s 7ms/step - loss: 0.7324 - val_loss: 0.6706\n",
      "Epoch 3/100\n",
      "22/22 [==============================] - 0s 5ms/step - loss: 0.7302 - val_loss: 0.6702\n",
      "Epoch 4/100\n",
      "22/22 [==============================] - 0s 5ms/step - loss: 0.7300 - val_loss: 0.6705\n",
      "Epoch 5/100\n",
      "22/22 [==============================] - 0s 5ms/step - loss: 0.7297 - val_loss: 0.6703\n",
      "Epoch 6/100\n",
      "22/22 [==============================] - 0s 5ms/step - loss: 0.7298 - val_loss: 0.6702\n",
      "Epoch 7/100\n",
      "22/22 [==============================] - 0s 5ms/step - loss: 0.7300 - val_loss: 0.6697\n",
      "Epoch 8/100\n",
      "22/22 [==============================] - 0s 7ms/step - loss: 0.7296 - val_loss: 0.6700\n",
      "Epoch 9/100\n",
      "22/22 [==============================] - 0s 6ms/step - loss: 0.7294 - val_loss: 0.6696\n",
      "Epoch 10/100\n",
      "22/22 [==============================] - 0s 6ms/step - loss: 0.7290 - val_loss: 0.6691\n",
      "Epoch 11/100\n",
      "22/22 [==============================] - 0s 5ms/step - loss: 0.7285 - val_loss: 0.6684\n",
      "Epoch 12/100\n",
      "22/22 [==============================] - 0s 5ms/step - loss: 0.7273 - val_loss: 0.6670\n",
      "Epoch 13/100\n",
      "22/22 [==============================] - 0s 7ms/step - loss: 0.7252 - val_loss: 0.6645\n",
      "Epoch 14/100\n",
      "22/22 [==============================] - 0s 6ms/step - loss: 0.7214 - val_loss: 0.6602\n",
      "Epoch 15/100\n",
      "22/22 [==============================] - 0s 5ms/step - loss: 0.7159 - val_loss: 0.6543\n",
      "Epoch 16/100\n",
      "22/22 [==============================] - 0s 5ms/step - loss: 0.7089 - val_loss: 0.6488\n",
      "Epoch 17/100\n",
      "22/22 [==============================] - 0s 5ms/step - loss: 0.7024 - val_loss: 0.6429\n",
      "Epoch 18/100\n",
      "22/22 [==============================] - 0s 5ms/step - loss: 0.6967 - val_loss: 0.6378\n",
      "Epoch 19/100\n",
      "22/22 [==============================] - 0s 5ms/step - loss: 0.6922 - val_loss: 0.6344\n",
      "Epoch 20/100\n",
      "22/22 [==============================] - 0s 5ms/step - loss: 0.6882 - val_loss: 0.6309\n",
      "Epoch 21/100\n",
      "22/22 [==============================] - 0s 5ms/step - loss: 0.6851 - val_loss: 0.6287\n",
      "Epoch 22/100\n",
      "22/22 [==============================] - 0s 5ms/step - loss: 0.6823 - val_loss: 0.6265\n",
      "Epoch 23/100\n",
      "22/22 [==============================] - 0s 5ms/step - loss: 0.6802 - val_loss: 0.6251\n",
      "Epoch 24/100\n",
      "22/22 [==============================] - 0s 5ms/step - loss: 0.6785 - val_loss: 0.6243\n",
      "Epoch 25/100\n",
      "22/22 [==============================] - 0s 6ms/step - loss: 0.6768 - val_loss: 0.6221\n",
      "Epoch 26/100\n",
      "22/22 [==============================] - 0s 5ms/step - loss: 0.6749 - val_loss: 0.6211\n",
      "Epoch 27/100\n",
      "22/22 [==============================] - 0s 5ms/step - loss: 0.6733 - val_loss: 0.6193\n",
      "Epoch 28/100\n",
      "22/22 [==============================] - 0s 6ms/step - loss: 0.6717 - val_loss: 0.6178\n",
      "Epoch 29/100\n",
      "22/22 [==============================] - 0s 6ms/step - loss: 0.6702 - val_loss: 0.6166\n",
      "Epoch 30/100\n",
      "22/22 [==============================] - 0s 6ms/step - loss: 0.6688 - val_loss: 0.6156\n",
      "Epoch 31/100\n",
      "22/22 [==============================] - 0s 5ms/step - loss: 0.6678 - val_loss: 0.6145\n",
      "Epoch 32/100\n",
      "22/22 [==============================] - 0s 5ms/step - loss: 0.6669 - val_loss: 0.6137\n",
      "Epoch 33/100\n",
      "22/22 [==============================] - 0s 5ms/step - loss: 0.6658 - val_loss: 0.6133\n",
      "Epoch 34/100\n",
      "22/22 [==============================] - 0s 5ms/step - loss: 0.6650 - val_loss: 0.6122\n",
      "Epoch 35/100\n",
      "22/22 [==============================] - 0s 7ms/step - loss: 0.6641 - val_loss: 0.6117\n",
      "Epoch 36/100\n",
      "22/22 [==============================] - 0s 7ms/step - loss: 0.6631 - val_loss: 0.6103\n",
      "Epoch 37/100\n",
      "22/22 [==============================] - 0s 7ms/step - loss: 0.6618 - val_loss: 0.6091\n",
      "Epoch 38/100\n",
      "22/22 [==============================] - 0s 6ms/step - loss: 0.6604 - val_loss: 0.6085\n",
      "Epoch 39/100\n",
      "22/22 [==============================] - 0s 6ms/step - loss: 0.6590 - val_loss: 0.6072\n",
      "Epoch 40/100\n",
      "22/22 [==============================] - 0s 5ms/step - loss: 0.6577 - val_loss: 0.6062\n",
      "Epoch 41/100\n",
      "22/22 [==============================] - 0s 5ms/step - loss: 0.6563 - val_loss: 0.6047\n",
      "Epoch 42/100\n",
      "22/22 [==============================] - 0s 6ms/step - loss: 0.6552 - val_loss: 0.6041\n",
      "Epoch 43/100\n",
      "22/22 [==============================] - 0s 5ms/step - loss: 0.6541 - val_loss: 0.6038\n",
      "Epoch 44/100\n",
      "22/22 [==============================] - 0s 5ms/step - loss: 0.6530 - val_loss: 0.6024\n",
      "Epoch 45/100\n",
      "22/22 [==============================] - 0s 5ms/step - loss: 0.6520 - val_loss: 0.6018\n",
      "Epoch 46/100\n",
      "22/22 [==============================] - 0s 7ms/step - loss: 0.6509 - val_loss: 0.6010\n",
      "Epoch 47/100\n",
      "22/22 [==============================] - 0s 6ms/step - loss: 0.6498 - val_loss: 0.6006\n",
      "Epoch 48/100\n",
      "22/22 [==============================] - 0s 5ms/step - loss: 0.6487 - val_loss: 0.6002\n",
      "Epoch 49/100\n",
      "22/22 [==============================] - 0s 5ms/step - loss: 0.6477 - val_loss: 0.5994\n",
      "Epoch 50/100\n",
      "22/22 [==============================] - 0s 5ms/step - loss: 0.6468 - val_loss: 0.5989\n",
      "Epoch 51/100\n",
      "22/22 [==============================] - 0s 5ms/step - loss: 0.6459 - val_loss: 0.5985\n",
      "Epoch 52/100\n",
      "22/22 [==============================] - 0s 5ms/step - loss: 0.6450 - val_loss: 0.5978\n",
      "Epoch 53/100\n",
      "22/22 [==============================] - 0s 5ms/step - loss: 0.6442 - val_loss: 0.5973\n",
      "Epoch 54/100\n",
      "22/22 [==============================] - 0s 5ms/step - loss: 0.6432 - val_loss: 0.5969\n",
      "Epoch 55/100\n",
      "22/22 [==============================] - 0s 5ms/step - loss: 0.6425 - val_loss: 0.5958\n",
      "Epoch 56/100\n",
      "22/22 [==============================] - 0s 5ms/step - loss: 0.6417 - val_loss: 0.5955\n",
      "Epoch 57/100\n",
      "22/22 [==============================] - 0s 5ms/step - loss: 0.6408 - val_loss: 0.5953\n",
      "Epoch 58/100\n",
      "22/22 [==============================] - 0s 5ms/step - loss: 0.6400 - val_loss: 0.5946\n",
      "Epoch 59/100\n",
      "22/22 [==============================] - 0s 6ms/step - loss: 0.6392 - val_loss: 0.5941\n",
      "Epoch 60/100\n",
      "22/22 [==============================] - 0s 6ms/step - loss: 0.6385 - val_loss: 0.5940\n",
      "Epoch 61/100\n",
      "22/22 [==============================] - 0s 6ms/step - loss: 0.6378 - val_loss: 0.5932\n",
      "Epoch 62/100\n",
      "22/22 [==============================] - 0s 5ms/step - loss: 0.6371 - val_loss: 0.5929\n",
      "Epoch 63/100\n",
      "22/22 [==============================] - 0s 5ms/step - loss: 0.6365 - val_loss: 0.5927\n",
      "Epoch 64/100\n",
      "22/22 [==============================] - 0s 5ms/step - loss: 0.6359 - val_loss: 0.5925\n",
      "Epoch 65/100\n",
      "22/22 [==============================] - 0s 5ms/step - loss: 0.6353 - val_loss: 0.5923\n",
      "Epoch 66/100\n",
      "22/22 [==============================] - 0s 5ms/step - loss: 0.6347 - val_loss: 0.5921\n",
      "Epoch 67/100\n",
      "22/22 [==============================] - 0s 5ms/step - loss: 0.6342 - val_loss: 0.5917\n",
      "Epoch 68/100\n",
      "22/22 [==============================] - 0s 5ms/step - loss: 0.6337 - val_loss: 0.5917\n",
      "Epoch 69/100\n",
      "22/22 [==============================] - 0s 5ms/step - loss: 0.6332 - val_loss: 0.5909\n",
      "Epoch 70/100\n",
      "22/22 [==============================] - 0s 5ms/step - loss: 0.6327 - val_loss: 0.5907\n",
      "Epoch 71/100\n",
      "22/22 [==============================] - 0s 5ms/step - loss: 0.6320 - val_loss: 0.5902\n",
      "Epoch 72/100\n",
      "22/22 [==============================] - 0s 5ms/step - loss: 0.6315 - val_loss: 0.5901\n",
      "Epoch 73/100\n",
      "22/22 [==============================] - 0s 5ms/step - loss: 0.6309 - val_loss: 0.5899\n",
      "Epoch 74/100\n",
      "22/22 [==============================] - 0s 5ms/step - loss: 0.6303 - val_loss: 0.5892\n",
      "Epoch 75/100\n",
      "22/22 [==============================] - 0s 5ms/step - loss: 0.6297 - val_loss: 0.5889\n",
      "Epoch 76/100\n",
      "22/22 [==============================] - 0s 6ms/step - loss: 0.6291 - val_loss: 0.5886\n",
      "Epoch 77/100\n",
      "22/22 [==============================] - 0s 5ms/step - loss: 0.6284 - val_loss: 0.5879\n",
      "Epoch 78/100\n",
      "22/22 [==============================] - 0s 5ms/step - loss: 0.6278 - val_loss: 0.5877\n",
      "Epoch 79/100\n",
      "22/22 [==============================] - 0s 5ms/step - loss: 0.6274 - val_loss: 0.5872\n",
      "Epoch 80/100\n",
      "22/22 [==============================] - 0s 5ms/step - loss: 0.6267 - val_loss: 0.5872\n",
      "Epoch 81/100\n",
      "22/22 [==============================] - 0s 5ms/step - loss: 0.6261 - val_loss: 0.5867\n",
      "Epoch 82/100\n",
      "22/22 [==============================] - 0s 5ms/step - loss: 0.6255 - val_loss: 0.5863\n",
      "Epoch 83/100\n",
      "22/22 [==============================] - 0s 5ms/step - loss: 0.6250 - val_loss: 0.5861\n",
      "Epoch 84/100\n",
      "22/22 [==============================] - 0s 6ms/step - loss: 0.6245 - val_loss: 0.5859\n",
      "Epoch 85/100\n",
      "22/22 [==============================] - 0s 5ms/step - loss: 0.6241 - val_loss: 0.5861\n",
      "Epoch 86/100\n",
      "22/22 [==============================] - 0s 5ms/step - loss: 0.6236 - val_loss: 0.5853\n",
      "Epoch 87/100\n",
      "22/22 [==============================] - 0s 5ms/step - loss: 0.6231 - val_loss: 0.5855\n",
      "Epoch 88/100\n",
      "22/22 [==============================] - 0s 5ms/step - loss: 0.6227 - val_loss: 0.5851\n",
      "Epoch 89/100\n",
      "22/22 [==============================] - 0s 5ms/step - loss: 0.6222 - val_loss: 0.5849\n",
      "Epoch 90/100\n",
      "22/22 [==============================] - 0s 7ms/step - loss: 0.6217 - val_loss: 0.5850\n",
      "Epoch 91/100\n",
      "22/22 [==============================] - 0s 5ms/step - loss: 0.6213 - val_loss: 0.5846\n",
      "Epoch 92/100\n",
      "22/22 [==============================] - 0s 5ms/step - loss: 0.6208 - val_loss: 0.5845\n",
      "Epoch 93/100\n",
      "22/22 [==============================] - 0s 5ms/step - loss: 0.6203 - val_loss: 0.5840\n",
      "Epoch 94/100\n",
      "22/22 [==============================] - 0s 5ms/step - loss: 0.6199 - val_loss: 0.5839\n",
      "Epoch 95/100\n",
      "22/22 [==============================] - 0s 5ms/step - loss: 0.6195 - val_loss: 0.5840\n",
      "Epoch 96/100\n",
      "22/22 [==============================] - 0s 5ms/step - loss: 0.6190 - val_loss: 0.5841\n",
      "Epoch 97/100\n",
      "22/22 [==============================] - 0s 6ms/step - loss: 0.6184 - val_loss: 0.5831\n",
      "Epoch 98/100\n",
      "22/22 [==============================] - 0s 6ms/step - loss: 0.6180 - val_loss: 0.5836\n",
      "Epoch 99/100\n",
      "22/22 [==============================] - 0s 5ms/step - loss: 0.6177 - val_loss: 0.5826\n",
      "Epoch 100/100\n",
      "22/22 [==============================] - 0s 5ms/step - loss: 0.6173 - val_loss: 0.5827\n"
     ]
    }
   ],
   "source": [
    "history = dbm.fit(train_data, train_data, epochs=100, batch_size=32, validation_split=0.1)\n"
   ]
  },
  {
   "cell_type": "code",
   "execution_count": 7,
   "metadata": {},
   "outputs": [],
   "source": [
    "train_loss = history.history['loss']\n",
    "val_loss = history.history['val_loss']\n",
    "epochs = range(1, len(train_loss) + 1)"
   ]
  },
  {
   "cell_type": "code",
   "execution_count": 8,
   "metadata": {},
   "outputs": [
    {
     "data": {
      "text/plain": [
       "<Figure size 1000x500 with 0 Axes>"
      ]
     },
     "execution_count": 8,
     "metadata": {},
     "output_type": "execute_result"
    },
    {
     "data": {
      "text/plain": [
       "<Figure size 1000x500 with 0 Axes>"
      ]
     },
     "metadata": {},
     "output_type": "display_data"
    }
   ],
   "source": [
    "plt.figure(figsize=(10, 5))"
   ]
  },
  {
   "cell_type": "code",
   "execution_count": 9,
   "metadata": {},
   "outputs": [
    {
     "data": {
      "image/png": "[encoded data removed]",
      "text/plain": [
       "<Figure size 640x480 with 1 Axes>"
      ]
     },
     "metadata": {},
     "output_type": "display_data"
    }
   ],
   "source": [
    "plt.subplot(1, 2, 1)\n",
    "plt.plot(epochs, train_loss, 'bo', label='Training loss')\n",
    "plt.plot(epochs, val_loss, 'b', label='Validation loss')\n",
    "plt.title('Training and validation loss')\n",
    "plt.xlabel('Epochs')\n",
    "plt.ylabel('Loss')\n",
    "plt.legend()\n",
    "\n",
    "plt.show()\n"
   ]
  },
  {
   "cell_type": "code",
   "execution_count": 10,
   "metadata": {},
   "outputs": [
    {
     "name": "stdout",
     "output_type": "stream",
     "text": [
      "1/1 [==============================] - 0s 58ms/step\n"
     ]
    },
    {
     "name": "stderr",
     "output_type": "stream",
     "text": [
      "2024-03-20 21:16:08.370906: I tensorflow/core/grappler/optimizers/custom_graph_optimizer_registry.cc:114] Plugin optimizer for device_type GPU is enabled.\n"
     ]
    }
   ],
   "source": [
    "user_id = 1\n",
    "user_ratings = train_data[user_id - 1]\n",
    "\n",
    "predicted_ratings = dbm.predict(np.array([user_ratings]))"
   ]
  },
  {
   "cell_type": "code",
   "execution_count": 11,
   "metadata": {},
   "outputs": [],
   "source": [
    "num_recommendations = 5\n",
    "recommended_movie_indices = np.argsort(predicted_ratings[0])[::-1][:num_recommendations]"
   ]
  },
  {
   "cell_type": "code",
   "execution_count": 12,
   "metadata": {},
   "outputs": [
    {
     "name": "stdout",
     "output_type": "stream",
     "text": [
      "Recommended movies for User 1\n",
      "1. Scream (1996)\n",
      "2. Liar Liar (1997)\n",
      "3. Contact (1997)\n",
      "4. Air Force One (1997)\n",
      "5. English Patient, The (1996)\n"
     ]
    }
   ],
   "source": [
    "print(\"Recommended movies for User\", user_id)\n",
    "for i, index in enumerate(recommended_movie_indices):\n",
    "    movie_title = movies_data[index][1]\n",
    "    print(f\"{i + 1}. {movie_title}\")"
   ]
  },
  {
   "cell_type": "code",
   "execution_count": null,
   "metadata": {},
   "outputs": [],
   "source": []
  }
 ],
 "metadata": {
  "kernelspec": {
   "display_name": "Python 3",
   "language": "python",
   "name": "python3"
  },
  "language_info": {
   "codemirror_mode": {
    "name": "ipython",
    "version": 3
   },
   "file_extension": ".py",
   "mimetype": "text/x-python",
   "name": "python",
   "nbconvert_exporter": "python",
   "pygments_lexer": "ipython3",
   "version": "3.11.4"
  }
 },
 "nbformat": 4,
 "nbformat_minor": 2
}
